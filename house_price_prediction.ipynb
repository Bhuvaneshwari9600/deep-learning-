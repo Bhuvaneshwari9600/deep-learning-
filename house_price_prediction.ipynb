{
  "nbformat": 4,
  "nbformat_minor": 0,
  "metadata": {
    "colab": {
      "provenance": [],
      "collapsed_sections": []
    },
    "kernelspec": {
      "name": "python3",
      "display_name": "Python 3"
    },
    "language_info": {
      "name": "python"
    }
  },
  "cells": [
    {
      "cell_type": "markdown",
      "source": [
        "#HOUSE PRICE PREDICTION USING CONVOLUTIONAL NEURAL NETWORL(CNN)"
      ],
      "metadata": {
        "id": "umPG24J06XFX"
      }
    },
    {
      "cell_type": "markdown",
      "source": [
        "####Importing packages"
      ],
      "metadata": {
        "id": "u_cUQi1I6pA5"
      }
    },
    {
      "cell_type": "code",
      "execution_count": 1,
      "metadata": {
        "id": "vsi9JJhHwHl-"
      },
      "outputs": [],
      "source": [
        "#Importing packages\n",
        "import numpy as np \n",
        "import pandas as pd\n",
        "\n",
        "import matplotlib.pyplot as plt\n",
        "import seaborn as sns\n",
        "\n",
        "import warnings\n",
        "warnings.filterwarnings(\"ignore\")"
      ]
    },
    {
      "cell_type": "markdown",
      "source": [
        "####Processing the dataset"
      ],
      "metadata": {
        "id": "o0LDeexm6zrr"
      }
    },
    {
      "cell_type": "code",
      "source": [
        "#Load dataset\n",
        "train = pd.read_csv('train.csv')\n",
        "test  = pd.read_csv('test.csv')"
      ],
      "metadata": {
        "id": "JgZezlQyxmPI"
      },
      "execution_count": 2,
      "outputs": []
    },
    {
      "cell_type": "code",
      "source": [
        "#Feature to predict\n",
        "target = list(set(train.columns) - set(test.columns))\n",
        "target = target[0] "
      ],
      "metadata": {
        "id": "Fdcgs08PxuNM"
      },
      "execution_count": 3,
      "outputs": []
    },
    {
      "cell_type": "markdown",
      "source": [
        "####X/Y dataset"
      ],
      "metadata": {
        "id": "YW16nTNe68YC"
      }
    },
    {
      "cell_type": "code",
      "source": [
        "X_train = train.loc[:, train.columns != target]\n",
        "Y_train = train[target]\n",
        "\n",
        "X_test = test\n",
        "\n",
        "#Drop id\n",
        "X_test_id = X_test[\"Id\"]\n",
        "\n",
        "X_train.drop(columns='Id',inplace=True)\n",
        "X_test.drop(columns='Id',inplace=True)\n",
        "\n",
        "X_train.reset_index(drop=True, inplace=True)\n",
        "X_test.reset_index(drop=True, inplace=True)"
      ],
      "metadata": {
        "id": "qcZWx4Raxywb"
      },
      "execution_count": 4,
      "outputs": []
    },
    {
      "cell_type": "markdown",
      "source": [
        "####Fill missing values"
      ],
      "metadata": {
        "id": "AWTts_rN7Cm-"
      }
    },
    {
      "cell_type": "code",
      "source": [
        "def fillNa_df(df):\n",
        "    \n",
        "    #select object columns\n",
        "    obj_col = df.columns[df.dtypes == 'object'].values\n",
        "\n",
        "    #select non object columns\n",
        "    num_col = df.columns[df.dtypes != 'object'].values\n",
        "\n",
        "    #replace null value in obj columns with None\n",
        "    df[obj_col] = df[obj_col].fillna('None')\n",
        "\n",
        "    #replace null value in numeric columns with 0\n",
        "    df[num_col] = df[num_col].fillna(0)\n",
        "    \n",
        "    return df\n",
        "\n",
        "X_train_001 = fillNa_df(X_train)\n",
        "X_test_001 = fillNa_df(X_test)"
      ],
      "metadata": {
        "id": "CqldyXyhx5FB"
      },
      "execution_count": 5,
      "outputs": []
    },
    {
      "cell_type": "markdown",
      "source": [
        "####Encoding ordinal/categorical features"
      ],
      "metadata": {
        "id": "4WGvaUhX7NP0"
      }
    },
    {
      "cell_type": "code",
      "source": [
        "from sklearn.preprocessing import OneHotEncoder\n",
        "\n",
        "def oneHotEncoding(df_train, df_test):\n",
        "    \n",
        "    #select object columns\n",
        "    obj_col = df_train.columns[df_train.dtypes == 'object'].values\n",
        "\n",
        "    # creating instance of one-hot-encoder\n",
        "    enc = OneHotEncoder(handle_unknown='ignore')\n",
        "\n",
        "    # Ordinal features\n",
        "    ordinal_features = [x for x in obj_col]\n",
        "\n",
        "    # passing cat column (label encoded values)\n",
        "    df_train_encoded = pd.DataFrame(enc.fit_transform(df_train[ordinal_features]).toarray())\n",
        "    df_test_encoded  = pd.DataFrame(enc.transform(df_test[ordinal_features]).toarray())\n",
        "    \n",
        "    df_train_encoded.reset_index(drop=True, inplace=True)\n",
        "    df_test_encoded.reset_index(drop=True, inplace=True)\n",
        "    \n",
        "    # merge with main df\n",
        "    df_train_encoded = pd.concat([df_train, df_train_encoded], axis=1)\n",
        "    df_test_encoded  = pd.concat([df_test,  df_test_encoded], axis=1)\n",
        "\n",
        "    # drop ordinal features\n",
        "    df_train_encoded.drop(columns=ordinal_features, inplace=True)\n",
        "    df_test_encoded.drop(columns=ordinal_features, inplace=True)\n",
        "    \n",
        "    return df_train_encoded, df_test_encoded\n",
        "\n",
        "X_train_002, X_test_002 = oneHotEncoding(X_train_001, X_test_001)"
      ],
      "metadata": {
        "id": "DnVDxvNDx_6_"
      },
      "execution_count": 6,
      "outputs": []
    },
    {
      "cell_type": "markdown",
      "source": [
        "####Feature Engineering"
      ],
      "metadata": {
        "id": "L_idrjXL7TK_"
      }
    },
    {
      "cell_type": "code",
      "source": [
        "def featureEng(df):\n",
        "\n",
        "    #TotalBath\n",
        "    df['TotalBath'] = (df['FullBath'] + df['HalfBath'] + df['BsmtFullBath'] + df['BsmtHalfBath'])\n",
        "\n",
        "    #TotalPorch\n",
        "    df['TotalPorch'] = (df['OpenPorchSF'] + df['3SsnPorch'] + df['EnclosedPorch'] + df['ScreenPorch'] + df['WoodDeckSF'])\n",
        "\n",
        "    #Modeling happen during the sale year\n",
        "    df[\"RecentRemodel\"] = (df[\"YearRemodAdd\"] == df[\"YrSold\"]) * 1\n",
        "\n",
        "    #House sold in the year it was built\n",
        "    df[\"NewHouse\"] = (df[\"YearBuilt\"] == df[\"YrSold\"]) * 1\n",
        "\n",
        "    #YrBltAndRemod\n",
        "    df[\"YrBltAndRemod\"] = df[\"YearBuilt\"] + df[\"YearRemodAdd\"]\n",
        "\n",
        "    #Total_sqr_footage\n",
        "    df[\"Total_sqr_footage\"] = df[\"BsmtFinSF1\"] + df[\"BsmtFinSF2\"] + df[\"1stFlrSF\"] + df[\"2ndFlrSF\"]\n",
        "    \n",
        "\n",
        "    df['TotalSF'] = df['TotalBsmtSF'] + df['1stFlrSF'] + df['2ndFlrSF']\n",
        "\n",
        "    df['Area_Qual'] = df['TotalSF'] * df['OverallQual']\n",
        "\n",
        "    #HasPool\n",
        "    df['HasPool'] = df['PoolArea'].apply(lambda x: 1 if x > 0 else 0)\n",
        "\n",
        "    #HasFireplaces\n",
        "    df['HasFirePlace'] = df['Fireplaces'].apply(lambda x: 1 if x > 0 else 0)\n",
        "\n",
        "    #Has2ndFloor\n",
        "    df['Has2ndFloor'] = df['2ndFlrSF'].apply(lambda x: 1 if x > 0 else 0)\n",
        "\n",
        "    #HasGarage\n",
        "    df['HasGarage'] = df['GarageArea'].apply(lambda x: 1 if x > 0 else 0)\n",
        "\n",
        "    #HasBsmnt\n",
        "    df['HasBsmnt'] = df['TotalBsmtSF'].apply(lambda x: 1 if x > 0 else 0)\n",
        "    \n",
        "    return df\n",
        "\n",
        "    #Feature Engineering\n",
        "X_train_003 = featureEng(X_train_002)\n",
        "X_test_003 = featureEng(X_test_002)"
      ],
      "metadata": {
        "id": "vyXUFjoeyNpd"
      },
      "execution_count": 8,
      "outputs": []
    },
    {
      "cell_type": "markdown",
      "source": [
        "####Outlier Detection"
      ],
      "metadata": {
        "id": "myASes5c7fTA"
      }
    },
    {
      "cell_type": "code",
      "source": [
        "from sklearn.ensemble import IsolationForest\n",
        "from sklearn.covariance import EllipticEnvelope\n",
        "from sklearn.neighbors import LocalOutlierFactor\n",
        "from sklearn.svm import OneClassSVM\n",
        "\n",
        "\n",
        "def dropoutlier(df_X, df_Y, method='IsolationForest'):\n",
        "\n",
        "    if(method=='IsolationForest'):\n",
        "        #Isolation Forest\n",
        "\n",
        "        # identify outliers in the training dataset\n",
        "        iso = IsolationForest(contamination=0.01)\n",
        "        yhat = iso.fit_predict(df_X)\n",
        "\n",
        "    if(method=='MinimumCovarianceDeterminant'):\n",
        "        #Minimum Covariance Determinant\n",
        "\n",
        "        # identify outliers in the training dataset\n",
        "        ee = EllipticEnvelope(contamination=0.01)\n",
        "        yhat = ee.fit_predict(df_X)\n",
        "\n",
        "    if(method=='LocalOutlierFactor'):\n",
        "        #Local Outlier Factor\n",
        "\n",
        "        # identify outliers in the training dataset\n",
        "        lof = LocalOutlierFactor()\n",
        "        yhat = lof.fit_predict(df_X)\n",
        "\n",
        "    if(method=='OneClassSVM'):\n",
        "        #One-Class SVM\n",
        "\n",
        "        # identify outliers in the training dataset\n",
        "        ee = OneClassSVM(nu=0.001)\n",
        "        yhat = ee.fit_predict(df_X)\n",
        "\n",
        "    # select all rows that are not outliers\n",
        "    mask = yhat != -1\n",
        "    df_X_drop, df_Y_drop = df_X[mask], df_Y[mask]\n",
        "\n",
        "    # select all rows that are outliers\n",
        "    masko = yhat == -1\n",
        "    df_X_o, df_Y_o = df_X[masko], df_Y[masko]\n",
        "    return df_X, df_Y, [df_X_o, df_Y_o]\n",
        "\n",
        "#Drop outliers\n",
        "X_train_004, Y_train_004, df_o = dropoutlier(X_train_003, Y_train)\n",
        "\n",
        "# summarize the shape of the updated training dataset\n",
        "print('Total: ', X_train_004.shape)\n",
        "print('Not Outliers: ', X_train_003.shape)\n",
        "print('Outliers: ', df_o[0].shape)"
      ],
      "metadata": {
        "colab": {
          "base_uri": "https://localhost:8080/"
        },
        "id": "OFv8T4qbyhZq",
        "outputId": "d573bc80-28e1-4e0c-e253-9ed2f5839a64"
      },
      "execution_count": 10,
      "outputs": [
        {
          "output_type": "stream",
          "name": "stdout",
          "text": [
            "Total:  (1460, 316)\n",
            "Not Outliers:  (1460, 316)\n",
            "Outliers:  (15, 316)\n",
            "Total:  (1460, 316)\n",
            "Not Outliers:  (1460, 316)\n",
            "Outliers:  (15, 316)\n"
          ]
        }
      ]
    },
    {
      "cell_type": "code",
      "source": [
        "#Plot GrLivArea vs SalePrice\n",
        "plt.scatter(X_train_004['GrLivArea'], Y_train_004, color='blue', alpha=0.5)\n",
        "plt.scatter(df_o[0]['GrLivArea'],   df_o[1],   color='red',  alpha=0.5, label='Outlier')\n",
        "plt.legend(loc=\"upper left\")\n",
        "plt.title(\"GrLivArea vs SalePrice\")\n",
        "plt.xlabel(\"GrLivArea\")\n",
        "plt.ylabel(\"SalePrice\")\n",
        "plt.show()"
      ],
      "metadata": {
        "colab": {
          "base_uri": "https://localhost:8080/",
          "height": 295
        },
        "id": "EkXtKX3YzA9L",
        "outputId": "9f68ab34-7294-4b7e-ab97-1692f3c424d7"
      },
      "execution_count": 12,
      "outputs": [
        {
          "output_type": "display_data",
          "data": {
            "text/plain": [
              "<Figure size 432x288 with 1 Axes>"
            ],
            "image/png": "[encoded data removed]"
          },
          "metadata": {
            "needs_background": "light"
          }
        }
      ]
    },
    {
      "cell_type": "markdown",
      "source": [
        "####Split dataframe - Train Validation"
      ],
      "metadata": {
        "id": "Qj5KiDWY75zJ"
      }
    },
    {
      "cell_type": "code",
      "source": [
        "#Importing packages\n",
        "from sklearn.model_selection import train_test_split\n",
        "\n",
        "#Particiona o data set originalmente Train em Train(Treino) e Val(validação)\n",
        "X_train_005, X_val_005, Y_train_005, Y_val_005 = train_test_split(X_train_004, \n",
        "                                                                  Y_train_004, \n",
        "                                                                  test_size=0.2, \n",
        "                                                                  random_state=42)\n",
        "\n",
        "X_train_005.shape, X_val_005.shape"
      ],
      "metadata": {
        "colab": {
          "base_uri": "https://localhost:8080/"
        },
        "id": "CMnXcOIr0ATx",
        "outputId": "a72cddd5-b98e-434a-a188-8990c00f44da"
      },
      "execution_count": 13,
      "outputs": [
        {
          "output_type": "execute_result",
          "data": {
            "text/plain": [
              "((1168, 316), (292, 316))"
            ]
          },
          "metadata": {},
          "execution_count": 13
        }
      ]
    },
    {
      "cell_type": "markdown",
      "source": [
        "####Make the Deep Neural Network"
      ],
      "metadata": {
        "id": "x920LT7X7ra2"
      }
    },
    {
      "cell_type": "code",
      "source": [
        "import tensorflow as tf\n",
        "\n",
        "from keras.models import Sequential\n",
        "from tensorflow.keras.layers import Dense, DenseFeatures, Activation, Flatten, Dropout, BatchNormalization\n",
        "from tensorflow.keras.optimizers import RMSprop,Adam\n",
        "from keras.callbacks import ReduceLROnPlateau\n"
      ],
      "metadata": {
        "id": "tJDpn4r40PMP"
      },
      "execution_count": 18,
      "outputs": []
    },
    {
      "cell_type": "code",
      "source": [
        "NN_model = Sequential()\n",
        "\n",
        "# The Input Layer :\n",
        "NN_model.add(Dense(324, kernel_initializer='normal',input_dim = X_train_005.shape[1], activation='relu'))\n",
        "\n",
        "# The Hidden Layers :\n",
        "NN_model.add(Dense(512, activation='relu'))\n",
        "NN_model.add(Dense(1024, activation='relu'))\n",
        "NN_model.add(Dense(1024, activation='relu'))\n",
        "NN_model.add(Dense(512, activation='relu'))\n",
        "NN_model.add(Dense(256, activation='relu'))\n",
        "\n",
        "\n",
        "NN_model.add(Flatten())\n",
        "\n",
        "\n",
        "NN_model.add(Dense(4096, activation='relu'))\n",
        "NN_model.add(Dropout(0.5))\n",
        "\n",
        "NN_model.add(Dense(4096, activation='relu'))\n",
        "NN_model.add(Dropout(0.5))\n",
        "\n",
        "# The Output Layer :\n",
        "NN_model.add(Dense(1, kernel_initializer='normal',activation='linear', kernel_regularizer = tf.keras.regularizers.l1(l=0.01) ))\n",
        "\n",
        "optimizer=Adam(learning_rate=0.01, beta_1=0.9, beta_2=0.999)\n",
        "\n",
        "# Compile the network :\n",
        "NN_model.compile(optimizer=optimizer, loss='mean_absolute_error', metrics=['mean_absolute_error'])\n",
        "NN_model.summary()"
      ],
      "metadata": {
        "id": "9bZRtkRx2v2l",
        "outputId": "4cd1610f-6cec-4a3a-f7bf-50b90c57571d",
        "colab": {
          "base_uri": "https://localhost:8080/"
        }
      },
      "execution_count": 19,
      "outputs": [
        {
          "output_type": "stream",
          "name": "stdout",
          "text": [
            "Model: \"sequential\"\n",
            "_________________________________________________________________\n",
            " Layer (type)                Output Shape              Param #   \n",
            "=================================================================\n",
            " dense (Dense)               (None, 324)               102708    \n",
            "                                                                 \n",
            " dense_1 (Dense)             (None, 512)               166400    \n",
            "                                                                 \n",
            " dense_2 (Dense)             (None, 1024)              525312    \n",
            "                                                                 \n",
            " dense_3 (Dense)             (None, 1024)              1049600   \n",
            "                                                                 \n",
            " dense_4 (Dense)             (None, 512)               524800    \n",
            "                                                                 \n",
            " dense_5 (Dense)             (None, 256)               131328    \n",
            "                                                                 \n",
            " flatten (Flatten)           (None, 256)               0         \n",
            "                                                                 \n",
            " dense_6 (Dense)             (None, 4096)              1052672   \n",
            "                                                                 \n",
            " dropout (Dropout)           (None, 4096)              0         \n",
            "                                                                 \n",
            " dense_7 (Dense)             (None, 4096)              16781312  \n",
            "                                                                 \n",
            " dropout_1 (Dropout)         (None, 4096)              0         \n",
            "                                                                 \n",
            " dense_8 (Dense)             (None, 1)                 4097      \n",
            "                                                                 \n",
            "=================================================================\n",
            "Total params: 20,338,229\n",
            "Trainable params: 20,338,229\n",
            "Non-trainable params: 0\n",
            "_________________________________________________________________\n"
          ]
        }
      ]
    },
    {
      "cell_type": "markdown",
      "source": [
        "####Train the model"
      ],
      "metadata": {
        "id": "gtDvvVSR8Eov"
      }
    },
    {
      "cell_type": "code",
      "source": [
        "NN_model.fit(X_train_005, Y_train_005, epochs=100, batch_size=128, verbose=0)"
      ],
      "metadata": {
        "id": "F_JqZDbz3agZ",
        "outputId": "472feb2a-9bd0-40c0-ea70-a0c59f1ce5f7",
        "colab": {
          "base_uri": "https://localhost:8080/"
        }
      },
      "execution_count": 20,
      "outputs": [
        {
          "output_type": "execute_result",
          "data": {
            "text/plain": [
              "<keras.callbacks.History at 0x7f2d67c23c10>"
            ]
          },
          "metadata": {},
          "execution_count": 20
        }
      ]
    },
    {
      "cell_type": "markdown",
      "source": [
        "####Model evaluate"
      ],
      "metadata": {
        "id": "Oq2aw83l8Msv"
      }
    },
    {
      "cell_type": "code",
      "source": [
        "results = NN_model.evaluate(X_val_005, Y_val_005)"
      ],
      "metadata": {
        "id": "p01mrgzH4m2i",
        "outputId": "8908650e-d49b-4528-fd5e-cfd8909aff5e",
        "colab": {
          "base_uri": "https://localhost:8080/"
        }
      },
      "execution_count": 21,
      "outputs": [
        {
          "output_type": "stream",
          "name": "stdout",
          "text": [
            "10/10 [==============================] - 0s 22ms/step - loss: 26952.6660 - mean_absolute_error: 26951.8320\n"
          ]
        }
      ]
    },
    {
      "cell_type": "markdown",
      "source": [
        "####Test the model"
      ],
      "metadata": {
        "id": "GrKJgMYh8UNo"
      }
    },
    {
      "cell_type": "code",
      "source": [
        "def make_submission(prediction, sub_name):\n",
        "  my_submission = pd.DataFrame({'Id':X_test_id,'SalePrice':prediction})\n",
        "  my_submission.to_csv('{}.csv'.format(sub_name),index=False)\n",
        "  print('A submission file has been made')\n",
        "\n",
        "Y_test_pred = NN_model.predict(X_test_003)\n",
        "\n",
        "make_submission(Y_test_pred[:,0],'submission')"
      ],
      "metadata": {
        "id": "cBIN5tf34xZh",
        "outputId": "8602de04-c602-41b9-9ec0-300fee71c0df",
        "colab": {
          "base_uri": "https://localhost:8080/"
        }
      },
      "execution_count": 22,
      "outputs": [
        {
          "output_type": "stream",
          "name": "stdout",
          "text": [
            "A submission file has been made\n"
          ]
        }
      ]
    }
  ]
}